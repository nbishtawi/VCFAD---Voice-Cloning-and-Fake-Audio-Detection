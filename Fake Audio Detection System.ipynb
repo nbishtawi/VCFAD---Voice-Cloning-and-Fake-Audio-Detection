{
 "cells": [
  {
   "cell_type": "code",
   "execution_count": 1,
   "id": "5073a278",
   "metadata": {},
   "outputs": [],
   "source": [
    "import os\n",
    "import torchaudio\n",
    "import torch\n",
    "from torch.utils.data import Dataset, DataLoader\n",
    "from torchvision import transforms\n",
    "from torch.nn.utils.rnn import pad_sequence\n",
    "from sklearn.model_selection import train_test_split\n",
    "from pydub import AudioSegment\n",
    "from tqdm import tqdm\n",
    "import numpy as np\n",
    "import torch.nn as nn\n",
    "import torch.optim as optim\n",
    "from sklearn.model_selection import GridSearchCV\n",
    "from sklearn.base import BaseEstimator, ClassifierMixin\n",
    "from sklearn.metrics import accuracy_score"
   ]
  },
  {
   "cell_type": "code",
   "execution_count": 2,
   "id": "73236050",
   "metadata": {},
   "outputs": [],
   "source": [
    "# Define the custom estimator class RNNClassifier\n",
    "class RNNClassifier(BaseEstimator, ClassifierMixin):\n",
    "    def __init__(self, input_size, hidden_size, num_layers, num_classes, learning_rate, num_epochs):\n",
    "        self.input_size = input_size\n",
    "        self.hidden_size = hidden_size\n",
    "        self.num_layers = num_layers\n",
    "        self.num_classes = num_classes\n",
    "        self.learning_rate = learning_rate\n",
    "        self.num_epochs = num_epochs\n",
    "\n",
    "    def fit(self, X, y):\n",
    "        # Create and initialize the RNN model\n",
    "        self.model = nn.Sequential(\n",
    "            nn.RNN(self.input_size, self.hidden_size, self.num_layers, batch_first=True),\n",
    "            nn.Linear(self.hidden_size, self.num_classes)\n",
    "        )\n",
    "\n",
    "        # Define loss and optimizer\n",
    "        criterion = nn.CrossEntropyLoss()\n",
    "        optimizer = optim.Adam(self.model.parameters(), lr=self.learning_rate)\n",
    "\n",
    "        # Move model to GPU if available\n",
    "        device = torch.device(\"cpu\")\n",
    "        self.model.to(device)\n",
    "\n",
    "        # Training loop\n",
    "        for epoch in range(self.num_epochs):\n",
    "            self.model.train()\n",
    "            for audio_batch, class_labels in X:\n",
    "                optimizer.zero_grad()\n",
    "\n",
    "                # Move audio batch to the device\n",
    "                audio_batch = audio_batch.to(device)\n",
    "\n",
    "                # Convert class labels to tensors\n",
    "                class_labels = torch.tensor(class_labels, dtype=torch.long).to(device)\n",
    "\n",
    "                outputs = self.model(audio_batch)\n",
    "                loss = criterion(outputs, class_labels)\n",
    "                loss.backward()\n",
    "                optimizer.step()\n",
    "\n",
    "        return self\n",
    "\n",
    "    def predict(self, X):\n",
    "        self.model.eval()\n",
    "        predictions = []\n",
    "        with torch.no_grad():\n",
    "            for audio_batch, _ in X:\n",
    "                audio_batch = audio_batch.to(device)\n",
    "                outputs = self.model(audio_batch)\n",
    "                _, predicted = torch.max(outputs.data, 1)\n",
    "                predictions.extend(predicted.cpu().numpy())\n",
    "        return predictions"
   ]
  },
  {
   "cell_type": "code",
   "execution_count": 3,
   "id": "fe480a67",
   "metadata": {},
   "outputs": [],
   "source": [
    "def load_audio_dataset(folder_path):\n",
    "    data = []\n",
    "    labels = []\n",
    "\n",
    "    audio_files = [file for file in os.listdir(folder_path) if file.endswith(\".wav\")]\n",
    "\n",
    "    for file in tqdm(audio_files, desc=f\"Loading {folder_path}\"):\n",
    "        audio_file = os.path.join(folder_path, file)\n",
    "\n",
    "        # Determine the class label based on the file name\n",
    "        label = 0 if file.startswith(\"common\") else 1  # Assuming 0 for \"Pristine\" and 1 for \"Altered\"\n",
    "\n",
    "        waveform, sample_rate = torchaudio.load(audio_file)\n",
    "\n",
    "        data.append(waveform)\n",
    "        labels.append(label)\n",
    "\n",
    "    return data, labels\n",
    "\n"
   ]
  },
  {
   "cell_type": "code",
   "execution_count": 4,
   "id": "9c0f9ba9",
   "metadata": {
    "scrolled": true
   },
   "outputs": [
    {
     "name": "stderr",
     "output_type": "stream",
     "text": [
      "Loading C:\\Users\\User\\Apviza\\Project 6\\Truncated\\train: 100%|██████████| 33212/33212 [00:30<00:00, 1078.38it/s]\n",
      "Loading C:\\Users\\User\\Apviza\\Project 6\\Truncated\\test: 100%|██████████| 7057/7057 [00:06<00:00, 1088.74it/s]\n",
      "Loading C:\\Users\\User\\Apviza\\Project 6\\Truncated\\validation: 100%|██████████| 6892/6892 [00:06<00:00, 1060.41it/s]\n"
     ]
    }
   ],
   "source": [
    "data_root = \"C:\\\\Users\\\\User\\\\Apviza\\\\Project 6\\\\Truncated\"\n",
    "\n",
    "batch_size = 32\n",
    "\n",
    "# Load data from the train, test, and validation folders\n",
    "train_folder = os.path.join(data_root, \"train\")\n",
    "test_folder = os.path.join(data_root, \"test\")\n",
    "val_folder = os.path.join(data_root, \"validation\")\n",
    "\n",
    "train_data, train_labels = load_audio_dataset(train_folder)\n",
    "test_data, test_labels = load_audio_dataset(test_folder)\n",
    "val_data, val_labels = load_audio_dataset(val_folder)\n",
    "\n",
    "# Create DataLoader instances\n",
    "train_loader = DataLoader(list(zip(train_data, train_labels)), batch_size=batch_size, shuffle=True)\n",
    "test_loader = DataLoader(list(zip(test_data, test_labels)), batch_size=batch_size, shuffle=False)\n",
    "val_loader = DataLoader(list(zip(val_data, val_labels)), batch_size=batch_size, shuffle=False)"
   ]
  },
  {
   "cell_type": "code",
   "execution_count": 8,
   "id": "f95ee72f",
   "metadata": {},
   "outputs": [],
   "source": [
    "# Define hyperparameters\n",
    "input_size = 23296  \n",
    "hidden_size = 64\n",
    "num_classes = 2  # Pristine and Altered\n",
    "num_layers = 2\n",
    "learning_rate = 0.001\n",
    "num_epochs = 10"
   ]
  },
  {
   "cell_type": "code",
   "execution_count": 9,
   "id": "c5b2d783",
   "metadata": {},
   "outputs": [],
   "source": [
    "class RNNModel(nn.Module):\n",
    "    def __init__(self, input_size, hidden_size, num_layers, num_classes):\n",
    "        super(RNNModel, self).__init__()\n",
    "        self.rnn = nn.RNN(input_size, hidden_size, num_layers, batch_first=True)\n",
    "        self.fc = nn.Linear(hidden_size, num_classes)\n",
    "\n",
    "    def forward(self, x):\n",
    "        out, _ = self.rnn(x)\n",
    "        out = self.fc(out[:, -1, :])  # Take the output of the last time step\n",
    "        return out"
   ]
  },
  {
   "cell_type": "code",
   "execution_count": 10,
   "id": "7630a12a",
   "metadata": {},
   "outputs": [],
   "source": [
    "model = RNNModel(input_size, hidden_size, num_layers, num_classes)\n"
   ]
  },
  {
   "cell_type": "code",
   "execution_count": 11,
   "id": "38c26731",
   "metadata": {},
   "outputs": [],
   "source": [
    "# Define loss and optimizer\n",
    "criterion = nn.CrossEntropyLoss()\n",
    "optimizer = optim.Adam(model.parameters(), lr=learning_rate)"
   ]
  },
  {
   "cell_type": "code",
   "execution_count": 15,
   "id": "5315e886",
   "metadata": {},
   "outputs": [
    {
     "data": {
      "text/plain": [
       "RNNModel(\n",
       "  (rnn): RNN(23296, 64, num_layers=2, batch_first=True)\n",
       "  (fc): Linear(in_features=64, out_features=2, bias=True)\n",
       ")"
      ]
     },
     "execution_count": 15,
     "metadata": {},
     "output_type": "execute_result"
    }
   ],
   "source": [
    "device = torch.device(\"cpu\")\n",
    "model.to(device)"
   ]
  },
  {
   "cell_type": "code",
   "execution_count": 20,
   "id": "06a5958d",
   "metadata": {
    "scrolled": false
   },
   "outputs": [
    {
     "name": "stdout",
     "output_type": "stream",
     "text": [
      "Epoch 1/10, Train Loss: 0.0073, Train Accuracy: 99.76%, Validation Loss: 0.1686, Validation Accuracy: 96.37%\n",
      "Epoch 2/10, Train Loss: 0.0058, Train Accuracy: 99.80%, Validation Loss: 0.1988, Validation Accuracy: 96.30%\n",
      "Epoch 3/10, Train Loss: 0.0045, Train Accuracy: 99.87%, Validation Loss: 0.1801, Validation Accuracy: 96.39%\n",
      "Epoch 4/10, Train Loss: 0.0065, Train Accuracy: 99.77%, Validation Loss: 0.2111, Validation Accuracy: 96.34%\n",
      "Epoch 5/10, Train Loss: 0.0031, Train Accuracy: 99.91%, Validation Loss: 0.2205, Validation Accuracy: 96.50%\n",
      "Epoch 6/10, Train Loss: 0.0019, Train Accuracy: 99.94%, Validation Loss: 0.2668, Validation Accuracy: 96.18%\n",
      "Epoch 7/10, Train Loss: 0.0039, Train Accuracy: 99.87%, Validation Loss: 0.2077, Validation Accuracy: 96.34%\n",
      "Epoch 8/10, Train Loss: 0.0030, Train Accuracy: 99.89%, Validation Loss: 0.2472, Validation Accuracy: 96.07%\n",
      "Epoch 9/10, Train Loss: 0.0019, Train Accuracy: 99.92%, Validation Loss: 0.2107, Validation Accuracy: 96.65%\n",
      "Epoch 10/10, Train Loss: 0.0021, Train Accuracy: 99.92%, Validation Loss: 0.2214, Validation Accuracy: 96.50%\n",
      "Test Accuracy: 96.98%\n"
     ]
    }
   ],
   "source": [
    "# Training loop\n",
    "for epoch in range(num_epochs):\n",
    "    model.train()\n",
    "    total_loss = 0\n",
    "    total_correct = 0\n",
    "    total_samples = 0\n",
    "\n",
    "    for audio_batch, class_labels in train_loader:\n",
    "        optimizer.zero_grad()\n",
    "\n",
    "        # Move audio batch to the device\n",
    "        audio_batch = pad_sequence(audio_batch, batch_first=True).to(device)\n",
    "\n",
    "        # Convert class labels to tensors\n",
    "        class_labels = class_labels.to(device)  # No need to convert to LongTensor here\n",
    "\n",
    "        outputs = model(audio_batch)\n",
    "        loss = criterion(outputs, class_labels)\n",
    "        loss.backward()\n",
    "        optimizer.step()\n",
    "\n",
    "        # Track statistics\n",
    "        total_loss += loss.item()\n",
    "        _, predicted = torch.max(outputs.data, 1)\n",
    "        total_correct += (predicted == class_labels).sum().item()\n",
    "        total_samples += class_labels.size(0)\n",
    "\n",
    "    # Validation\n",
    "    model.eval()\n",
    "    val_loss = 0\n",
    "    val_correct = 0\n",
    "    val_total = 0\n",
    "\n",
    "    with torch.no_grad():\n",
    "        for audio_batch, class_labels in val_loader:\n",
    "            # Move audio batch to the device\n",
    "            audio_batch = pad_sequence(audio_batch, batch_first=True).to(device)\n",
    "\n",
    "            class_labels = class_labels.to(device)  # No need to convert to LongTensor here\n",
    "\n",
    "            outputs = model(audio_batch)\n",
    "            loss = criterion(outputs, class_labels)\n",
    "\n",
    "            # Track validation statistics\n",
    "            val_loss += loss.item()\n",
    "            _, predicted = torch.max(outputs.data, 1)\n",
    "            val_correct += (predicted == class_labels).sum().item()\n",
    "            val_total += class_labels.size(0)\n",
    "\n",
    "    avg_train_loss = total_loss / len(train_loader)\n",
    "    train_accuracy = (total_correct / total_samples) * 100\n",
    "\n",
    "    avg_val_loss = val_loss / len(val_loader)\n",
    "    val_accuracy = (val_correct / val_total) * 100\n",
    "\n",
    "    print(f\"Epoch {epoch+1}/{num_epochs}, \"\n",
    "          f\"Train Loss: {avg_train_loss:.4f}, Train Accuracy: {train_accuracy:.2f}%, \"\n",
    "          f\"Validation Loss: {avg_val_loss:.4f}, Validation Accuracy: {val_accuracy:.2f}%\")\n",
    "\n",
    "# After training is complete, you can evaluate the model on the test data if needed\n",
    "model.eval()\n",
    "test_correct = 0\n",
    "test_total = 0\n",
    "\n",
    "with torch.no_grad():\n",
    "    for audio_batch, class_labels in test_loader:\n",
    "        # Move audio batch to the device\n",
    "        audio_batch = pad_sequence(audio_batch, batch_first=True).to(device)\n",
    "\n",
    "        class_labels = class_labels.to(device)  # No need to convert to LongTensor here\n",
    "\n",
    "        outputs = model(audio_batch)\n",
    "        _, predicted = torch.max(outputs.data, 1)\n",
    "        test_total += class_labels.size(0)\n",
    "        test_correct += (predicted == class_labels).sum().item()\n",
    "\n",
    "test_accuracy = (test_correct / test_total) * 100\n",
    "print(f\"Test Accuracy: {test_accuracy:.2f}%\")\n"
   ]
  }
 ],
 "metadata": {
  "kernelspec": {
   "display_name": "Python [conda env:torch_env] *",
   "language": "python",
   "name": "conda-env-torch_env-py"
  },
  "language_info": {
   "codemirror_mode": {
    "name": "ipython",
    "version": 3
   },
   "file_extension": ".py",
   "mimetype": "text/x-python",
   "name": "python",
   "nbconvert_exporter": "python",
   "pygments_lexer": "ipython3",
   "version": "3.8.17"
  }
 },
 "nbformat": 4,
 "nbformat_minor": 5
}
